{
 "cells": [
  {
   "cell_type": "code",
   "execution_count": 1,
   "metadata": {},
   "outputs": [],
   "source": [
    "import pymongo"
   ]
  },
  {
   "cell_type": "code",
   "execution_count": 2,
   "metadata": {},
   "outputs": [],
   "source": [
    "dbconn=pymongo.MongoClient('mongodb://127.0.0.1:27017/')"
   ]
  },
  {
   "cell_type": "code",
   "execution_count": 3,
   "metadata": {},
   "outputs": [],
   "source": [
    "dbname='demodb'"
   ]
  },
  {
   "cell_type": "code",
   "execution_count": 6,
   "metadata": {},
   "outputs": [],
   "source": [
    "db=dbconn[dbname]"
   ]
  },
  {
   "cell_type": "code",
   "execution_count": 10,
   "metadata": {},
   "outputs": [
    {
     "name": "stdout",
     "output_type": "stream",
     "text": [
      "['admin', 'config', 'demodb', 'local', 'tut']\n"
     ]
    }
   ],
   "source": [
    "print(dbconn.list_database_names())"
   ]
  },
  {
   "cell_type": "code",
   "execution_count": 11,
   "metadata": {},
   "outputs": [],
   "source": [
    "collection_name='mongo_demo'\n",
    "collection=db[collection_name]"
   ]
  },
  {
   "cell_type": "code",
   "execution_count": 12,
   "metadata": {},
   "outputs": [
    {
     "name": "stdout",
     "output_type": "stream",
     "text": [
      "the collection exists\n"
     ]
    }
   ],
   "source": [
    "if collection_name in db.list_collection_names():\n",
    "    print(\"the collection exists\")\n",
    "else:\n",
    "    print(\"the collection does not exist\")"
   ]
  },
  {
   "cell_type": "code",
   "execution_count": 13,
   "metadata": {},
   "outputs": [],
   "source": [
    "my_row={\n",
    "    'Serial No':'9998',\n",
    "    'GRE Score':'337',\n",
    "    'TOEFL Score':'118',\n",
    "    'University Rating':'4',\n",
    "    'SOP':'4.5',\n",
    "    'LOR':'4.5',\n",
    "    'CGPA':'9.65',\n",
    "    'Research':'1',\n",
    "    'Chance of Admit':'0.92'\n",
    "}"
   ]
  },
  {
   "cell_type": "code",
   "execution_count": 14,
   "metadata": {},
   "outputs": [],
   "source": [
    "x=collection.insert_one(my_row)"
   ]
  },
  {
   "cell_type": "code",
   "execution_count": 15,
   "metadata": {},
   "outputs": [
    {
     "name": "stdout",
     "output_type": "stream",
     "text": [
      "5eafa97d6c9809fb14e3a69e\n"
     ]
    }
   ],
   "source": [
    "print(x.inserted_id)"
   ]
  },
  {
   "cell_type": "code",
   "execution_count": 16,
   "metadata": {},
   "outputs": [],
   "source": [
    "my_rows=[\n",
    "    {\n",
    "    'Serial No':'9997',\n",
    "    'GRE Score':'336',\n",
    "    'TOEFL Score':'119',\n",
    "    'University Rating':'5',\n",
    "    'SOP':'3.5',\n",
    "    'LOR':'3.5',\n",
    "    'CGPA':'9.45',\n",
    "    'Research':'1',\n",
    "    'Chance of Admit':'0.96' \n",
    "    },\n",
    "    {\n",
    "      'Serial No':'9996',\n",
    "    'GRE Score':'338',\n",
    "    'TOEFL Score':'118',\n",
    "    'University Rating':'4',\n",
    "    'SOP':'4.5',\n",
    "    'LOR':'4.5',\n",
    "    'CGPA':'9.65',\n",
    "    'Research':'1',\n",
    "    'Chance of Admit':'0.92'  \n",
    "    }\n",
    "]"
   ]
  },
  {
   "cell_type": "code",
   "execution_count": 17,
   "metadata": {},
   "outputs": [],
   "source": [
    "x=collection.insert_many(my_rows)"
   ]
  },
  {
   "cell_type": "code",
   "execution_count": 18,
   "metadata": {},
   "outputs": [
    {
     "name": "stdout",
     "output_type": "stream",
     "text": [
      "[ObjectId('5eafaa8a6c9809fb14e3a69f'), ObjectId('5eafaa8a6c9809fb14e3a6a0')]\n"
     ]
    }
   ],
   "source": [
    "print(x.inserted_ids)"
   ]
  },
  {
   "cell_type": "code",
   "execution_count": 20,
   "metadata": {},
   "outputs": [
    {
     "data": {
      "text/plain": [
       "{'_id': ObjectId('5eafaa8a6c9809fb14e3a6a0'),\n",
       " 'Serial No': '9996',\n",
       " 'GRE Score': '338',\n",
       " 'TOEFL Score': '118',\n",
       " 'University Rating': '4',\n",
       " 'SOP': '4.5',\n",
       " 'LOR': '4.5',\n",
       " 'CGPA': '9.65',\n",
       " 'Research': '1',\n",
       " 'Chance of Admit': '0.92'}"
      ]
     },
     "execution_count": 20,
     "metadata": {},
     "output_type": "execute_result"
    }
   ],
   "source": [
    "result=collection.find({})\n",
    "result[2]"
   ]
  },
  {
   "cell_type": "code",
   "execution_count": 21,
   "metadata": {},
   "outputs": [
    {
     "name": "stdout",
     "output_type": "stream",
     "text": [
      "{'_id': ObjectId('5eafa97d6c9809fb14e3a69e'), 'Serial No': '9998', 'GRE Score': '337', 'TOEFL Score': '118', 'University Rating': '4', 'SOP': '4.5', 'LOR': '4.5', 'CGPA': '9.65', 'Research': '1', 'Chance of Admit': '0.92'}\n",
      "{'_id': ObjectId('5eafaa8a6c9809fb14e3a69f'), 'Serial No': '9997', 'GRE Score': '336', 'TOEFL Score': '119', 'University Rating': '5', 'SOP': '3.5', 'LOR': '3.5', 'CGPA': '9.45', 'Research': '1', 'Chance of Admit': '0.96'}\n"
     ]
    }
   ],
   "source": [
    "result=collection.find({}).limit(2)\n",
    "for res in result:\n",
    "    print(res)"
   ]
  },
  {
   "cell_type": "code",
   "execution_count": 22,
   "metadata": {},
   "outputs": [
    {
     "name": "stdout",
     "output_type": "stream",
     "text": [
      "{'_id': ObjectId('5eafa97d6c9809fb14e3a69e'), 'GRE Score': '337', 'TOEFL Score': '118'}\n",
      "{'_id': ObjectId('5eafaa8a6c9809fb14e3a69f'), 'GRE Score': '336', 'TOEFL Score': '119'}\n",
      "{'_id': ObjectId('5eafaa8a6c9809fb14e3a6a0'), 'GRE Score': '338', 'TOEFL Score': '118'}\n"
     ]
    }
   ],
   "source": [
    "result=collection.find({},{'GRE Score','TOEFL Score'})\n",
    "for res in result:\n",
    "    print(res)"
   ]
  },
  {
   "cell_type": "code",
   "execution_count": 24,
   "metadata": {},
   "outputs": [
    {
     "name": "stdout",
     "output_type": "stream",
     "text": [
      "{'_id': ObjectId('5eafa97d6c9809fb14e3a69e'), 'Serial No': '9998', 'GRE Score': '337', 'TOEFL Score': '118', 'University Rating': '4', 'SOP': '4.5', 'LOR': '4.5', 'CGPA': '9.65', 'Research': '1', 'Chance of Admit': '0.92'}\n"
     ]
    }
   ],
   "source": [
    "mydb_query={'GRE Score':'337'}\n",
    "result_gre=collection.find(mydb_query)\n",
    "for res in result_gre:\n",
    "    print(res)"
   ]
  },
  {
   "cell_type": "code",
   "execution_count": 27,
   "metadata": {},
   "outputs": [
    {
     "name": "stdout",
     "output_type": "stream",
     "text": [
      "{'_id': ObjectId('5eafaa8a6c9809fb14e3a6a0'), 'Serial No': '9996', 'GRE Score': '338', 'TOEFL Score': '118', 'University Rating': '4', 'SOP': '4.5', 'LOR': '4.5', 'CGPA': '9.65', 'Research': '1', 'Chance of Admit': '0.92'}\n"
     ]
    }
   ],
   "source": [
    "mydb_query={'GRE Score':{'$gt':'337'}}\n",
    "result_gre=collection.find(mydb_query)\n",
    "for res in result_gre:\n",
    "    print(res)"
   ]
  },
  {
   "cell_type": "code",
   "execution_count": 29,
   "metadata": {},
   "outputs": [
    {
     "name": "stdout",
     "output_type": "stream",
     "text": [
      "{'_id': ObjectId('5eafaa8a6c9809fb14e3a6a0'), 'Serial No': '9996', 'GRE Score': '338', 'TOEFL Score': '118', 'University Rating': '4', 'SOP': '4.5', 'LOR': '4.5', 'CGPA': '9.65', 'Research': '1', 'Chance of Admit': '0.92'}\n",
      "{'_id': ObjectId('5eafa97d6c9809fb14e3a69e'), 'Serial No': '9998', 'GRE Score': '337', 'TOEFL Score': '118', 'University Rating': '4', 'SOP': '4.5', 'LOR': '4.5', 'CGPA': '9.65', 'Research': '1', 'Chance of Admit': '0.92'}\n",
      "{'_id': ObjectId('5eafaa8a6c9809fb14e3a69f'), 'Serial No': '9997', 'GRE Score': '336', 'TOEFL Score': '119', 'University Rating': '5', 'SOP': '3.5', 'LOR': '3.5', 'CGPA': '9.45', 'Research': '1', 'Chance of Admit': '0.96'}\n"
     ]
    }
   ],
   "source": [
    "mydb_query={'GRE Score':{'$lt':'340'}}\n",
    "result_gre=collection.find(mydb_query).sort('GRE Score',-1)\n",
    "for res in result_gre:\n",
    "    print(res)"
   ]
  },
  {
   "cell_type": "code",
   "execution_count": 31,
   "metadata": {},
   "outputs": [
    {
     "name": "stdout",
     "output_type": "stream",
     "text": [
      "1\n"
     ]
    }
   ],
   "source": [
    "mydb_query={'GRE Score':'338'}\n",
    "x=collection.delete_one(mydb_query)#delete_many for many and delete_many({}) for all\n",
    "print(x.deleted_count)"
   ]
  },
  {
   "cell_type": "code",
   "execution_count": 32,
   "metadata": {},
   "outputs": [],
   "source": [
    "#collection_to_drop=db['collection_name']\n",
    "#collection_to_drop.drop()\n",
    "#drop the collection/table\n"
   ]
  },
  {
   "cell_type": "code",
   "execution_count": 33,
   "metadata": {},
   "outputs": [
    {
     "name": "stdout",
     "output_type": "stream",
     "text": [
      "1\n"
     ]
    }
   ],
   "source": [
    "update_criteria={'GRE Score':'336'}\n",
    "new_values={'$set':{'GRE Score':'340'}}\n",
    "x=collection.update_many(update_criteria,new_values)\n",
    "print(x.modified_count)"
   ]
  },
  {
   "cell_type": "code",
   "execution_count": null,
   "metadata": {},
   "outputs": [],
   "source": []
  }
 ],
 "metadata": {
  "kernelspec": {
   "display_name": "Python 3.7.3 64-bit",
   "language": "python",
   "name": "python37364bite198591ed32a4b6dbc83e06374f44147"
  },
  "language_info": {
   "codemirror_mode": {
    "name": "ipython",
    "version": 3
   },
   "file_extension": ".py",
   "mimetype": "text/x-python",
   "name": "python",
   "nbconvert_exporter": "python",
   "pygments_lexer": "ipython3",
   "version": "3.7.3"
  }
 },
 "nbformat": 4,
 "nbformat_minor": 4
}
